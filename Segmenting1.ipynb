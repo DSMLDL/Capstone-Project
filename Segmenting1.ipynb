{
 "cells": [
  {
   "cell_type": "markdown",
   "metadata": {},
   "source": [
    "### Loading libraries"
   ]
  },
  {
   "cell_type": "code",
   "execution_count": 1,
   "metadata": {},
   "outputs": [],
   "source": [
    "from bs4 import BeautifulSoup \n",
    "import requests\n",
    "import pandas as pd"
   ]
  },
  {
   "cell_type": "markdown",
   "metadata": {},
   "source": [
    "### Web scrapping"
   ]
  },
  {
   "cell_type": "code",
   "execution_count": 2,
   "metadata": {},
   "outputs": [
    {
     "data": {
      "text/html": [
       "<div>\n",
       "<style scoped>\n",
       "    .dataframe tbody tr th:only-of-type {\n",
       "        vertical-align: middle;\n",
       "    }\n",
       "\n",
       "    .dataframe tbody tr th {\n",
       "        vertical-align: top;\n",
       "    }\n",
       "\n",
       "    .dataframe thead th {\n",
       "        text-align: right;\n",
       "    }\n",
       "</style>\n",
       "<table border=\"1\" class=\"dataframe\">\n",
       "  <thead>\n",
       "    <tr style=\"text-align: right;\">\n",
       "      <th></th>\n",
       "      <th>Postal Code</th>\n",
       "      <th>Borough</th>\n",
       "      <th>Neighbourhood</th>\n",
       "    </tr>\n",
       "  </thead>\n",
       "  <tbody>\n",
       "    <tr>\n",
       "      <th>0</th>\n",
       "      <td>M1A</td>\n",
       "      <td>Not assigned</td>\n",
       "      <td>Not assigned</td>\n",
       "    </tr>\n",
       "    <tr>\n",
       "      <th>1</th>\n",
       "      <td>M2A</td>\n",
       "      <td>Not assigned</td>\n",
       "      <td>Not assigned</td>\n",
       "    </tr>\n",
       "    <tr>\n",
       "      <th>2</th>\n",
       "      <td>M3A</td>\n",
       "      <td>North York</td>\n",
       "      <td>Parkwoods</td>\n",
       "    </tr>\n",
       "    <tr>\n",
       "      <th>3</th>\n",
       "      <td>M4A</td>\n",
       "      <td>North York</td>\n",
       "      <td>Victoria Village</td>\n",
       "    </tr>\n",
       "    <tr>\n",
       "      <th>4</th>\n",
       "      <td>M5A</td>\n",
       "      <td>Downtown Toronto</td>\n",
       "      <td>Regent Park, Harbourfront</td>\n",
       "    </tr>\n",
       "  </tbody>\n",
       "</table>\n",
       "</div>"
      ],
      "text/plain": [
       "  Postal Code           Borough              Neighbourhood\n",
       "0         M1A      Not assigned               Not assigned\n",
       "1         M2A      Not assigned               Not assigned\n",
       "2         M3A        North York                  Parkwoods\n",
       "3         M4A        North York           Victoria Village\n",
       "4         M5A  Downtown Toronto  Regent Park, Harbourfront"
      ]
     },
     "execution_count": 2,
     "metadata": {},
     "output_type": "execute_result"
    }
   ],
   "source": [
    "url = 'https://en.wikipedia.org/wiki/List_of_postal_codes_of_Canada:_M'\n",
    "tables = pd.read_html(url, header=0)\n",
    "table = tables[0]\n",
    "table.head()"
   ]
  },
  {
   "cell_type": "code",
   "execution_count": 3,
   "metadata": {},
   "outputs": [
    {
     "data": {
      "text/plain": [
       "(180, 3)"
      ]
     },
     "execution_count": 3,
     "metadata": {},
     "output_type": "execute_result"
    }
   ],
   "source": [
    "table.shape"
   ]
  },
  {
   "cell_type": "code",
   "execution_count": 4,
   "metadata": {},
   "outputs": [
    {
     "data": {
      "text/plain": [
       "Not assigned        77\n",
       "North York          24\n",
       "Downtown Toronto    19\n",
       "Scarborough         17\n",
       "Etobicoke           12\n",
       "Central Toronto      9\n",
       "West Toronto         6\n",
       "East Toronto         5\n",
       "York                 5\n",
       "East York            5\n",
       "Mississauga          1\n",
       "Name: Borough, dtype: int64"
      ]
     },
     "execution_count": 4,
     "metadata": {},
     "output_type": "execute_result"
    }
   ],
   "source": [
    "table.Borough.value_counts()"
   ]
  },
  {
   "cell_type": "code",
   "execution_count": 5,
   "metadata": {},
   "outputs": [
    {
     "data": {
      "text/plain": [
       "Not assigned                                                                                                                              77\n",
       "Downsview                                                                                                                                  4\n",
       "Don Mills                                                                                                                                  2\n",
       "Humberlea, Emery                                                                                                                           1\n",
       "Little Portugal, Trinity                                                                                                                   1\n",
       "Victoria Village                                                                                                                           1\n",
       "Lawrence Park                                                                                                                              1\n",
       "Woburn                                                                                                                                     1\n",
       "Northwest, West Humber - Clairville                                                                                                        1\n",
       "Runnymede, The Junction North                                                                                                              1\n",
       "Harbourfront East, Union Station, Toronto Islands                                                                                          1\n",
       "Brockton, Parkdale Village, Exhibition Place                                                                                               1\n",
       "Dorset Park, Wexford Heights, Scarborough Town Centre                                                                                      1\n",
       "Upper Rouge                                                                                                                                1\n",
       "Roselawn                                                                                                                                   1\n",
       "Parkview Hill, Woodbine Gardens                                                                                                            1\n",
       "Regent Park, Harbourfront                                                                                                                  1\n",
       "Stn A PO Boxes                                                                                                                             1\n",
       "York Mills West                                                                                                                            1\n",
       "Rouge Hill, Port Union, Highland Creek                                                                                                     1\n",
       "Moore Park, Summerhill East                                                                                                                1\n",
       "High Park, The Junction South                                                                                                              1\n",
       "Agincourt                                                                                                                                  1\n",
       "Studio District                                                                                                                            1\n",
       "St. James Town                                                                                                                             1\n",
       "Willowdale, Willowdale West                                                                                                                1\n",
       "The Annex, North Midtown, Yorkville                                                                                                        1\n",
       "Westmount                                                                                                                                  1\n",
       "Wexford, Maryvale                                                                                                                          1\n",
       "Dufferin, Dovercourt Village                                                                                                               1\n",
       "                                                                                                                                          ..\n",
       "Church and Wellesley                                                                                                                       1\n",
       "Willowdale, Willowdale East                                                                                                                1\n",
       "Northwood Park, York University                                                                                                            1\n",
       "Canada Post Gateway Processing Centre                                                                                                      1\n",
       "Summerhill West, Rathnelly, South Hill, Forest Hill SE, Deer Park                                                                          1\n",
       "Old Mill South, King's Mill Park, Sunnylea, Humber Bay, Mimico NE, The Queensway East, Royal York South East, Kingsway Park South East     1\n",
       "Bathurst Manor, Wilson Heights, Downsview North                                                                                            1\n",
       "Islington Avenue, Humber Valley Village                                                                                                    1\n",
       "St. James Town, Cabbagetown                                                                                                                1\n",
       "Davisville North                                                                                                                           1\n",
       "Commerce Court, Victoria Hotel                                                                                                             1\n",
       "West Deane Park, Princess Gardens, Martin Grove, Islington, Cloverdale                                                                     1\n",
       "Hillcrest Village                                                                                                                          1\n",
       "Scarborough Village                                                                                                                        1\n",
       "Toronto Dominion Centre, Design Exchange                                                                                                   1\n",
       "Christie                                                                                                                                   1\n",
       "Richmond, Adelaide, King                                                                                                                   1\n",
       "Queen's Park, Ontario Provincial Government                                                                                                1\n",
       "Mimico NW, The Queensway West, South of Bloor, Kingsway Park South West, Royal York South West                                             1\n",
       "Alderwood, Long Branch                                                                                                                     1\n",
       "Guildwood, Morningside, West Hill                                                                                                          1\n",
       "South Steeles, Silverstone, Humbergate, Jamestown, Mount Olive, Beaumond Heights, Thistletown, Albion Gardens                              1\n",
       "Kensington Market, Chinatown, Grange Park                                                                                                  1\n",
       "Berczy Park                                                                                                                                1\n",
       "Clarks Corners, Tam O'Shanter, Sullivan                                                                                                    1\n",
       "Central Bay Street                                                                                                                         1\n",
       "Weston                                                                                                                                     1\n",
       "Bedford Park, Lawrence Manor East                                                                                                          1\n",
       "The Beaches                                                                                                                                1\n",
       "North Toronto West, Lawrence Park                                                                                                          1\n",
       "Name: Neighbourhood, Length: 100, dtype: int64"
      ]
     },
     "execution_count": 5,
     "metadata": {},
     "output_type": "execute_result"
    }
   ],
   "source": [
    "table.Neighbourhood.value_counts()"
   ]
  },
  {
   "cell_type": "code",
   "execution_count": 6,
   "metadata": {},
   "outputs": [
    {
     "ename": "NameError",
     "evalue": "name 'np' is not defined",
     "output_type": "error",
     "traceback": [
      "\u001b[1;31m---------------------------------------------------------------------------\u001b[0m",
      "\u001b[1;31mNameError\u001b[0m                                 Traceback (most recent call last)",
      "\u001b[1;32m<ipython-input-6-3c759aeb6190>\u001b[0m in \u001b[0;36m<module>\u001b[1;34m\u001b[0m\n\u001b[1;32m----> 1\u001b[1;33m \u001b[0mtable\u001b[0m\u001b[1;33m.\u001b[0m\u001b[0mBorough\u001b[0m\u001b[1;33m.\u001b[0m\u001b[0mreplace\u001b[0m\u001b[1;33m(\u001b[0m\u001b[1;34m\"Not assigned\"\u001b[0m\u001b[1;33m,\u001b[0m \u001b[0mnp\u001b[0m\u001b[1;33m.\u001b[0m\u001b[0mnan\u001b[0m\u001b[1;33m,\u001b[0m \u001b[0minplace\u001b[0m \u001b[1;33m=\u001b[0m \u001b[1;32mTrue\u001b[0m\u001b[1;33m)\u001b[0m\u001b[1;33m\u001b[0m\u001b[1;33m\u001b[0m\u001b[0m\n\u001b[0m\u001b[0;32m      2\u001b[0m \u001b[0mtable\u001b[0m\u001b[1;33m.\u001b[0m\u001b[0mhead\u001b[0m\u001b[1;33m(\u001b[0m\u001b[1;33m)\u001b[0m\u001b[1;33m\u001b[0m\u001b[1;33m\u001b[0m\u001b[0m\n",
      "\u001b[1;31mNameError\u001b[0m: name 'np' is not defined"
     ]
    }
   ],
   "source": [
    "table.Borough.replace(\"Not assigned\", np.nan, inplace = True)\n",
    "table.head()"
   ]
  },
  {
   "cell_type": "markdown",
   "metadata": {},
   "source": [
    "### Drop the rows where borough has Nan.\n"
   ]
  },
  {
   "cell_type": "code",
   "execution_count": null,
   "metadata": {},
   "outputs": [],
   "source": [
    "table.dropna(axis=0, inplace=True)\n",
    "table = table.reset_index()\n",
    "table = table.drop(['index'], axis=1)\n",
    "table.head(20)"
   ]
  },
  {
   "cell_type": "markdown",
   "metadata": {},
   "source": [
    "### Group Neighbourhoods with the same Postcode\n"
   ]
  },
  {
   "cell_type": "code",
   "execution_count": null,
   "metadata": {},
   "outputs": [],
   "source": [
    "table = table.groupby(['Postal Code', 'Borough'])['Neighbourhood'].apply(lambda x: \"%s\" % ', '.join(x))\n",
    "table = table.reset_index()\n",
    "table.head()"
   ]
  },
  {
   "cell_type": "markdown",
   "metadata": {},
   "source": [
    "### Replace the 'Not aasigned' to 'Queen's Park' in Neighborhood\n"
   ]
  },
  {
   "cell_type": "code",
   "execution_count": null,
   "metadata": {},
   "outputs": [],
   "source": [
    "table = table.replace({'Not assigned' : \"Queen's Park\"}) \n",
    "table.head()"
   ]
  },
  {
   "cell_type": "markdown",
   "metadata": {},
   "source": [
    "###  Get shape of Table"
   ]
  },
  {
   "cell_type": "code",
   "execution_count": null,
   "metadata": {},
   "outputs": [],
   "source": [
    "table.shape"
   ]
  }
 ],
 "metadata": {
  "kernelspec": {
   "display_name": "Python 3",
   "language": "python",
   "name": "python3"
  },
  "language_info": {
   "codemirror_mode": {
    "name": "ipython",
    "version": 3
   },
   "file_extension": ".py",
   "mimetype": "text/x-python",
   "name": "python",
   "nbconvert_exporter": "python",
   "pygments_lexer": "ipython3",
   "version": "3.7.3"
  }
 },
 "nbformat": 4,
 "nbformat_minor": 2
}
